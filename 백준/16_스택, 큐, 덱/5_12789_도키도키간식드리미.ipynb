{
 "cells": [
  {
   "cell_type": "code",
   "execution_count": 23,
   "metadata": {},
   "outputs": [
    {
     "ename": "IndexError",
     "evalue": "list index out of range",
     "output_type": "error",
     "traceback": [
      "\u001b[1;31m---------------------------------------------------------------------------\u001b[0m",
      "\u001b[1;31mIndexError\u001b[0m                                Traceback (most recent call last)",
      "Cell \u001b[1;32mIn[23], line 12\u001b[0m\n\u001b[0;32m      8\u001b[0m result\u001b[38;5;241m=\u001b[39m\u001b[38;5;28;01mTrue\u001b[39;00m\n\u001b[0;32m     10\u001b[0m \u001b[38;5;28;01mwhile\u001b[39;00m people \u001b[38;5;129;01mor\u001b[39;00m stack: \u001b[38;5;66;03m#모든 스택이 없어질 때 까지 루프\u001b[39;00m\n\u001b[1;32m---> 12\u001b[0m     \u001b[38;5;28;01mif\u001b[39;00m \u001b[43mpeople\u001b[49m\u001b[43m[\u001b[49m\u001b[38;5;241;43m-\u001b[39;49m\u001b[38;5;241;43m1\u001b[39;49m\u001b[43m]\u001b[49m\u001b[38;5;241m==\u001b[39mcnt: \u001b[38;5;66;03m#줄서있는곳에서 제거\u001b[39;00m\n\u001b[0;32m     13\u001b[0m         people\u001b[38;5;241m.\u001b[39mpop()\n\u001b[0;32m     14\u001b[0m         cnt\u001b[38;5;241m+\u001b[39m\u001b[38;5;241m=\u001b[39m\u001b[38;5;241m1\u001b[39m\n",
      "\u001b[1;31mIndexError\u001b[0m: list index out of range"
     ]
    }
   ],
   "source": [
    "N=int(input())\n",
    "\n",
    "people=list(map(int,input().split()))\n",
    "people.reverse()\n",
    "stack=[]\n",
    "\n",
    "cnt=1\n",
    "result=True\n",
    "\n",
    "while people or stack: #모든 스택이 없어질 때 까지 루프\n",
    "    \n",
    "    if people and people[-1]==cnt: #줄서있는곳에서 제거\n",
    "        people.pop()\n",
    "        cnt+=1\n",
    "    elif stack and stack[-1]==cnt: #사이드에서 제거\n",
    "        stack.pop()\n",
    "        cnt+=1\n",
    "    else: #사이드로빠짐\n",
    "        if not stack or stack[-1]>people[-1]: #줄서는 조건\n",
    "            stack.append(people.pop())\n",
    "        else: #조건만족 안하면 실패\n",
    "            result=False\n",
    "            break\n",
    "print('Nice' if result else 'Sad')"
   ]
  }
 ],
 "metadata": {
  "kernelspec": {
   "display_name": "Python 3",
   "language": "python",
   "name": "python3"
  },
  "language_info": {
   "codemirror_mode": {
    "name": "ipython",
    "version": 3
   },
   "file_extension": ".py",
   "mimetype": "text/x-python",
   "name": "python",
   "nbconvert_exporter": "python",
   "pygments_lexer": "ipython3",
   "version": "3.12.2"
  }
 },
 "nbformat": 4,
 "nbformat_minor": 2
}
