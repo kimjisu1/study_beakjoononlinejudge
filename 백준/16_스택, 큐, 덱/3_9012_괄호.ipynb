{
 "cells": [
  {
   "cell_type": "code",
   "execution_count": 2,
   "metadata": {},
   "outputs": [
    {
     "name": "stdout",
     "output_type": "stream",
     "text": [
      "NO\n"
     ]
    }
   ],
   "source": [
    "T=int(input())\n",
    "\n",
    "for i in range(T):\n",
    "\n",
    "    stack=[]\n",
    "    key=input()\n",
    "    result='YES'\n",
    "\n",
    "    for i in key:\n",
    "        if i == '(':\n",
    "            stack.append(True)\n",
    "        else:\n",
    "            if len(stack)>0:\n",
    "                stack.pop()\n",
    "            else:\n",
    "                result='NO'\n",
    "                break\n",
    "                \n",
    "    if len(stack)!=0:\n",
    "        result='NO'\n",
    "        \n",
    "    print(result)"
   ]
  }
 ],
 "metadata": {
  "kernelspec": {
   "display_name": "Python 3",
   "language": "python",
   "name": "python3"
  },
  "language_info": {
   "codemirror_mode": {
    "name": "ipython",
    "version": 3
   },
   "file_extension": ".py",
   "mimetype": "text/x-python",
   "name": "python",
   "nbconvert_exporter": "python",
   "pygments_lexer": "ipython3",
   "version": "3.12.2"
  }
 },
 "nbformat": 4,
 "nbformat_minor": 2
}
