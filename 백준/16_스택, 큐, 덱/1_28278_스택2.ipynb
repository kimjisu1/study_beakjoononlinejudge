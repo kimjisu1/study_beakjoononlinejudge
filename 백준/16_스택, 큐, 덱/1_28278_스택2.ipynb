{
 "cells": [
  {
   "cell_type": "code",
   "execution_count": 18,
   "metadata": {},
   "outputs": [
    {
     "name": "stdout",
     "output_type": "stream",
     "text": [
      "1\n",
      "2\n",
      "5\n",
      "3\n",
      "3\n",
      "-1\n",
      "-1\n"
     ]
    }
   ],
   "source": [
    "N=int(input())\n",
    "stack=[]\n",
    "for i in range(N):\n",
    "    li=list(map(int, input().split()))\n",
    "    key=li[0]\n",
    "    if key==1:\n",
    "        stack.append(li[1])\n",
    "    elif key==2:\n",
    "        print(stack.pop() if len(stack) > 0 else -1)\n",
    "    elif key==3:\n",
    "        print(len(stack))\n",
    "    elif key==4:\n",
    "        print(0 if len(stack)>0 else 1)\n",
    "    elif key==5:\n",
    "        print(stack[-1] if len(stack)>0 else -1)"
   ]
  }
 ],
 "metadata": {
  "kernelspec": {
   "display_name": "Python 3",
   "language": "python",
   "name": "python3"
  },
  "language_info": {
   "codemirror_mode": {
    "name": "ipython",
    "version": 3
   },
   "file_extension": ".py",
   "mimetype": "text/x-python",
   "name": "python",
   "nbconvert_exporter": "python",
   "pygments_lexer": "ipython3",
   "version": "3.12.2"
  }
 },
 "nbformat": 4,
 "nbformat_minor": 2
}
