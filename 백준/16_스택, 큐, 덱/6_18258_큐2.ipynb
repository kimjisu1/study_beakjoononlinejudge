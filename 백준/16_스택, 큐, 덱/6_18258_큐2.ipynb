{
 "cells": [
  {
   "cell_type": "code",
   "execution_count": null,
   "metadata": {},
   "outputs": [],
   "source": [
    "'''\n",
    "push\n",
    "pop\n",
    "size\n",
    "empty\n",
    "front\n",
    "back\n",
    "'''\n",
    "from collections import deque\n",
    "\n",
    "N=int(input())\n",
    "Q=deque()\n",
    "\n",
    "for _ in range(N):\n",
    "    li=input().split()\n",
    "    key=li[0]\n",
    "    if key=='push':\n",
    "        Q.append(li[1])\n",
    "    elif key=='pop':\n",
    "        print(Q.popleft() if Q else -1)\n",
    "    elif key=='size':\n",
    "        print(len(Q))\n",
    "    elif key=='empty':\n",
    "        print(1 if not Q else 0)\n",
    "    elif key=='front':\n",
    "        print(Q[0] if Q else -1)\n",
    "    elif key=='back':\n",
    "        print(Q[-1] if Q else -1)\n",
    "        \n",
    "        \n"
   ]
  },
  {
   "cell_type": "code",
   "execution_count": 22,
   "metadata": {},
   "outputs": [
    {
     "data": {
      "text/plain": [
       "0"
      ]
     },
     "execution_count": 22,
     "metadata": {},
     "output_type": "execute_result"
    }
   ],
   "source": [
    "from collections import deque\n",
    "from queue import Queue\n",
    "# q=deque()\n",
    "q=Queue()\n",
    "q.qsize()"
   ]
  },
  {
   "cell_type": "code",
   "execution_count": null,
   "metadata": {},
   "outputs": [],
   "source": []
  }
 ],
 "metadata": {
  "kernelspec": {
   "display_name": "Python 3",
   "language": "python",
   "name": "python3"
  },
  "language_info": {
   "codemirror_mode": {
    "name": "ipython",
    "version": 3
   },
   "file_extension": ".py",
   "mimetype": "text/x-python",
   "name": "python",
   "nbconvert_exporter": "python",
   "pygments_lexer": "ipython3",
   "version": "3.12.2"
  }
 },
 "nbformat": 4,
 "nbformat_minor": 2
}
