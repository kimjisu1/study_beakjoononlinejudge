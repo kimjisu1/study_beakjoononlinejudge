{
 "cells": [
  {
   "cell_type": "code",
   "execution_count": 10,
   "metadata": {},
   "outputs": [
    {
     "name": "stdout",
     "output_type": "stream",
     "text": [
      "[\n",
      "['(', '[']\n",
      "no\n"
     ]
    }
   ],
   "source": [
    "bracket_pairs={'(':')', '{':'}', '[':']'}\n",
    "bracket_open='({['\n",
    "bracket_close=')}]'\n",
    "\n",
    "while True:\n",
    "\n",
    "    stack=[]\n",
    "    string=input()\n",
    "\n",
    "    if string=='.':\n",
    "        break\n",
    "\n",
    "    result= True\n",
    "\n",
    "    for char in string:\n",
    "        if char in bracket_open:\n",
    "            stack.append(char)\n",
    "        elif char in bracket_close:\n",
    "            if stack and bracket_pairs[stack[-1]] == char:\n",
    "                stack.pop()\n",
    "            else:\n",
    "                result=False\n",
    "                break\n",
    "    if stack:\n",
    "        result = False\n",
    "        \n",
    "    print('yes' if result else 'no')"
   ]
  }
 ],
 "metadata": {
  "kernelspec": {
   "display_name": "Python 3",
   "language": "python",
   "name": "python3"
  },
  "language_info": {
   "codemirror_mode": {
    "name": "ipython",
    "version": 3
   },
   "file_extension": ".py",
   "mimetype": "text/x-python",
   "name": "python",
   "nbconvert_exporter": "python",
   "pygments_lexer": "ipython3",
   "version": "3.12.2"
  }
 },
 "nbformat": 4,
 "nbformat_minor": 2
}
