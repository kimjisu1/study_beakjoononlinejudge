{
 "cells": [
  {
   "cell_type": "code",
   "execution_count": 9,
   "metadata": {},
   "outputs": [
    {
     "name": "stdout",
     "output_type": "stream",
     "text": [
      "<3, 6, 2, 7, 5, 1, 4>\n"
     ]
    }
   ],
   "source": [
    "from collections import deque\n",
    "import sys\n",
    "input=sys.stdin.readline\n",
    "\n",
    "N=int(input())\n",
    "q=deque()\n",
    "\n",
    "for _ in range(N):\n",
    "\n",
    "    v=input().split()\n",
    "    key=v[0]\n",
    "    val=v[1] if len(v)>1 else 0\n",
    "    try:\n",
    "        if key=='1':\n",
    "            q.appendleft(val)\n",
    "        elif key=='2':\n",
    "            q.append(val)\n",
    "        elif key=='3':\n",
    "            print(q.popleft())\n",
    "        elif key=='4':\n",
    "            print(q.pop())\n",
    "        elif key=='5':\n",
    "            print(len(q))\n",
    "        elif key=='6':\n",
    "            print(1 if not q else 0)\n",
    "        elif key=='7':\n",
    "            print(q[0])\n",
    "        elif key=='8':\n",
    "            print(q[-1])\n",
    "    except:\n",
    "        print(-1)"
   ]
  },
  {
   "cell_type": "code",
   "execution_count": 19,
   "metadata": {},
   "outputs": [
    {
     "name": "stdout",
     "output_type": "stream",
     "text": [
      "1\n"
     ]
    }
   ],
   "source": [
    "# v=input()\n",
    "import collections\n",
    "qq=collections.deque()\n",
    "\n",
    "print(1 if not qq else 0)"
   ]
  }
 ],
 "metadata": {
  "kernelspec": {
   "display_name": "Python 3",
   "language": "python",
   "name": "python3"
  },
  "language_info": {
   "codemirror_mode": {
    "name": "ipython",
    "version": 3
   },
   "file_extension": ".py",
   "mimetype": "text/x-python",
   "name": "python",
   "nbconvert_exporter": "python",
   "pygments_lexer": "ipython3",
   "version": "3.12.2"
  }
 },
 "nbformat": 4,
 "nbformat_minor": 2
}
