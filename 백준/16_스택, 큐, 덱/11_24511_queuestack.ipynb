{
 "cells": [
  {
   "cell_type": "code",
   "execution_count": 45,
   "metadata": {},
   "outputs": [
    {
     "name": "stdout",
     "output_type": "stream",
     "text": [
      "4 1 4\n"
     ]
    }
   ],
   "source": [
    "\n",
    "N=int(input())\n",
    "A=input().split()\n",
    "B=input().split()\n",
    "M=int(input())\n",
    "C=input().split()\n",
    "\n",
    "#O(N)\n",
    "result=[b for i,(a,b) in enumerate(zip(A,B)) if a=='0']\n",
    "result.reverse()\n",
    "result.extend(C)\n",
    "\n",
    "print(*result[:M])\n",
    "\n",
    "#O(N^2)\n",
    "# for v in C:\n",
    "#     for i in range(N):\n",
    "#         if A[i] == 0:\n",
    "#            B[i],v=v,B[i]\n",
    "#     result.append(v)\n",
    "# print(*result)"
   ]
  }
 ],
 "metadata": {
  "kernelspec": {
   "display_name": "Python 3",
   "language": "python",
   "name": "python3"
  },
  "language_info": {
   "codemirror_mode": {
    "name": "ipython",
    "version": 3
   },
   "file_extension": ".py",
   "mimetype": "text/x-python",
   "name": "python",
   "nbconvert_exporter": "python",
   "pygments_lexer": "ipython3",
   "version": "3.12.2"
  }
 },
 "nbformat": 4,
 "nbformat_minor": 2
}
