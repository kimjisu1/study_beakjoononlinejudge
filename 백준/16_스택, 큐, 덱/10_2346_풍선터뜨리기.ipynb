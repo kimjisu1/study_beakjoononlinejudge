{
 "cells": [
  {
   "cell_type": "code",
   "execution_count": 24,
   "metadata": {},
   "outputs": [
    {
     "name": "stdout",
     "output_type": "stream",
     "text": [
      "1 4 5 3 2\n"
     ]
    }
   ],
   "source": [
    "#deque 기본활용\n",
    "\n",
    "from collections import deque\n",
    "# import sys\n",
    "# input=sys.stdin.readline\n",
    "\n",
    "N=int(input())\n",
    "q=deque(i+1 for i in range(N))\n",
    "\n",
    "\n",
    "K=list(map(int,input().split()))\n",
    "result=[]\n",
    "\n",
    "result.append(q.popleft())\n",
    "num=K[0]\n",
    "for _ in range(N-1):\n",
    "    if(num>0):\n",
    "        i=num\n",
    "        for _ in range(i-1):\n",
    "            q.append(q.popleft())\n",
    "        result.append(q.popleft())\n",
    "    else:\n",
    "        i=-num\n",
    "        for _ in range(i-1):\n",
    "            q.appendleft(q.pop())\n",
    "        result.append(q.pop())\n",
    "    num=K[result[-1]-1]\n",
    "print(*result)\n"
   ]
  },
  {
   "cell_type": "code",
   "execution_count": 49,
   "metadata": {},
   "outputs": [
    {
     "name": "stdout",
     "output_type": "stream",
     "text": [
      "deque([2, 3, 4, 5])\n",
      "deque([5, 2, 3])\n",
      "deque([2, 3])\n",
      "deque([2])\n",
      "deque([])\n",
      "1 4 5 3 2\n"
     ]
    }
   ],
   "source": [
    "#deque 로테이션 활용\n",
    "from collections import deque\n",
    "# import sys\n",
    "# input=sys.stdin.readline\n",
    "\n",
    "N=int(input())\n",
    "K=list(map(int,input().split()))\n",
    "\n",
    "q=deque(i+1 for i in range(N))\n",
    "result=[]\n",
    "\n",
    "for _ in range(N):\n",
    "    circle=q.popleft()\n",
    "    result.append(circle)\n",
    "    num=K[circle - 1]\n",
    "    \n",
    "    q.rotate(-(num-1 if num > 0 else num)) #중요 회전할 때 정도 수, -로 돌려야 방향이 맞을 듯...\n",
    "print(*result)"
   ]
  }
 ],
 "metadata": {
  "kernelspec": {
   "display_name": "Python 3",
   "language": "python",
   "name": "python3"
  },
  "language_info": {
   "codemirror_mode": {
    "name": "ipython",
    "version": 3
   },
   "file_extension": ".py",
   "mimetype": "text/x-python",
   "name": "python",
   "nbconvert_exporter": "python",
   "pygments_lexer": "ipython3",
   "version": "3.12.2"
  }
 },
 "nbformat": 4,
 "nbformat_minor": 2
}
