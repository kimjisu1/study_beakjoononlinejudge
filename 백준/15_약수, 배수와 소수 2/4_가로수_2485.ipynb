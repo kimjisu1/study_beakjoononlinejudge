{
 "cells": [
  {
   "cell_type": "code",
   "execution_count": 161,
   "metadata": {},
   "outputs": [],
   "source": [
    "def GCD(big,small):\n",
    "    while small:\n",
    "        big,small=small,big%small\n",
    "    return big"
   ]
  },
  {
   "cell_type": "code",
   "execution_count": 166,
   "metadata": {},
   "outputs": [],
   "source": [
    "def LCM(big,small):\n",
    "    return big*small/GCD(big,small)"
   ]
  },
  {
   "cell_type": "code",
   "execution_count": 162,
   "metadata": {},
   "outputs": [],
   "source": [
    "\n",
    "N=int(input())\n",
    "li=[int(input()) for _ in range(N)]"
   ]
  },
  {
   "cell_type": "code",
   "execution_count": 165,
   "metadata": {},
   "outputs": [
    {
     "name": "stdout",
     "output_type": "stream",
     "text": [
      "10\n"
     ]
    }
   ],
   "source": [
    "\n",
    "#각 가로수 사이거리 구하기\n",
    "betweens=[]\n",
    "for i in range(len(li)-1):\n",
    "    between=li[i+1]-li[i]\n",
    "    betweens.append(between)\n",
    "\n",
    "cnt=0\n",
    "\n",
    "result=list(sorted(list(betweens)))\n",
    "\n",
    "tt=list(set(result))\n",
    "\n",
    "if 1 in betweens:\n",
    "    cnt=sum(i-1 for i in result)\n",
    "elif len(tt)<2:\n",
    "    cnt=0\n",
    "else:\n",
    "    \n",
    "    #모든 수의 최대공약수 구하기\n",
    "    gcd=tt[0] \n",
    "    for i in tt:\n",
    "        gcd=GCD(gcd,i)\n",
    "\n",
    "    #계산\n",
    "    for i in range(len(result)):\n",
    "        if gcd==GCD(result[i],gcd): \n",
    "            cnt+=result[i]//gcd-1\n",
    "        else:\n",
    "            cnt=sum(i-1 for i in result)\n",
    "            break\n",
    "\n",
    "print(cnt)"
   ]
  }
 ],
 "metadata": {
  "kernelspec": {
   "display_name": "Python 3",
   "language": "python",
   "name": "python3"
  },
  "language_info": {
   "codemirror_mode": {
    "name": "ipython",
    "version": 3
   },
   "file_extension": ".py",
   "mimetype": "text/x-python",
   "name": "python",
   "nbconvert_exporter": "python",
   "pygments_lexer": "ipython3",
   "version": "3.12.2"
  }
 },
 "nbformat": 4,
 "nbformat_minor": 2
}
