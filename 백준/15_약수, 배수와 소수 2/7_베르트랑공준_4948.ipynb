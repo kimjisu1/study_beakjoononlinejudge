{
 "cells": [
  {
   "cell_type": "code",
   "execution_count": 2,
   "metadata": {},
   "outputs": [
    {
     "name": "stdout",
     "output_type": "stream",
     "text": [
      "3\n",
      "4\n",
      "21\n",
      "135\n",
      "1033\n",
      "8392\n"
     ]
    }
   ],
   "source": [
    "def primeList(startidx, n):\n",
    "    prime=[True]*(n+1)\n",
    "    prime[0:startidx]=[False]*startidx\n",
    "    prime[0:2]=[False]*2\n",
    "    \n",
    "    for i in range(2, int(n**0.5)+1):\n",
    "        for j in range(i*i, n+1, i):\n",
    "            prime[j]=False\n",
    "    return len(list(i for i ,v in enumerate(prime) if v))\n",
    "\n",
    "while True:\n",
    "    N=int(input())\n",
    "    if not N:\n",
    "        break\n",
    "    minVal=N\n",
    "    maxVal=N*2\n",
    "    print(primeList(minVal+1, maxVal))"
   ]
  }
 ],
 "metadata": {
  "kernelspec": {
   "display_name": "Python 3",
   "language": "python",
   "name": "python3"
  },
  "language_info": {
   "codemirror_mode": {
    "name": "ipython",
    "version": 3
   },
   "file_extension": ".py",
   "mimetype": "text/x-python",
   "name": "python",
   "nbconvert_exporter": "python",
   "pygments_lexer": "ipython3",
   "version": "3.12.2"
  }
 },
 "nbformat": 4,
 "nbformat_minor": 2
}
