{
 "cells": [
  {
   "cell_type": "code",
   "execution_count": null,
   "metadata": {},
   "outputs": [],
   "source": [
    "# import sys\n",
    "# input = sys.stdin.readline\n",
    "\n",
    "T=int(input())\n",
    "result=\"\"\n",
    "li=[list(map(int, input().split()))for _ in range(T)]"
   ]
  },
  {
   "cell_type": "code",
   "execution_count": 28,
   "metadata": {},
   "outputs": [
    {
     "name": "stdout",
     "output_type": "stream",
     "text": [
      "45000\n",
      "30\n",
      "221\n"
     ]
    }
   ],
   "source": [
    "for i in li:\n",
    "    i.sort()\n",
    "    big=i[1]\n",
    "    small=i[0]\n",
    "    gcd=0\n",
    "    while True:\n",
    "        gcd=big%small\n",
    "        if gcd != 0:\n",
    "            big=small\n",
    "            small=gcd\n",
    "        else:\n",
    "            gcd=small\n",
    "            break\n",
    "    print(int(i[1]*i[0]/gcd))\n",
    "    "
   ]
  }
 ],
 "metadata": {
  "kernelspec": {
   "display_name": "Python 3",
   "language": "python",
   "name": "python3"
  },
  "language_info": {
   "codemirror_mode": {
    "name": "ipython",
    "version": 3
   },
   "file_extension": ".py",
   "mimetype": "text/x-python",
   "name": "python",
   "nbconvert_exporter": "python",
   "pygments_lexer": "ipython3",
   "version": "3.12.2"
  }
 },
 "nbformat": 4,
 "nbformat_minor": 2
}
