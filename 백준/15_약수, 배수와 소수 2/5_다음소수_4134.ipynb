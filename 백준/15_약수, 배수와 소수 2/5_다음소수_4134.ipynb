{
 "cells": [
  {
   "cell_type": "code",
   "execution_count": 4,
   "metadata": {},
   "outputs": [],
   "source": [
    "#소수 단일\n",
    "def is_primenum(x):\n",
    "    for i in range (2, int(x**0.5 + 1)):\n",
    "    \tif x % i == 0:\n",
    "            print(i)\n",
    "            return False\n",
    "    return True"
   ]
  },
  {
   "cell_type": "code",
   "execution_count": 123,
   "metadata": {},
   "outputs": [],
   "source": [
    "#소수 리스트 반환\n",
    "def primeList(n):\n",
    "    prime=[True]*(n+1)\n",
    "    prime[0:2]=[True]*2\n",
    "    for i in range(2, int(n**0.5)+1):\n",
    "        for j in range(i*i, n+1, i):\n",
    "            prime[j]=False\n",
    "    return prime            "
   ]
  },
  {
   "cell_type": "code",
   "execution_count": 6,
   "metadata": {},
   "outputs": [
    {
     "name": "stdout",
     "output_type": "stream",
     "text": [
      "7\n",
      "23\n",
      "101\n"
     ]
    }
   ],
   "source": [
    "#정답\n",
    "n=int(input())\n",
    "li=[int(input()) for _ in range(n)]\n",
    "\n",
    "def is_primenum(x):\n",
    "    for i in range (2, int(x**0.5 + 1)):\n",
    "    \tif x % i == 0:\n",
    "            return False\n",
    "    return True\n",
    "\n",
    "for i in li:\n",
    "    idx=i\n",
    "    while is_primenum(idx) == False:\n",
    "        idx+=1\n",
    "    print(idx)"
   ]
  },
  {
   "cell_type": "code",
   "execution_count": 63,
   "metadata": {},
   "outputs": [],
   "source": [
    "#내가생각했던거 실패\n",
    "li2=list(True for i in range(0,maxVal*maxVal))\n",
    "\n",
    "li2[0:2]=[False]*2\n",
    "\n",
    "for i in range(2, len(li2), i*i):\n",
    "    if li2[i]==True:\n",
    "        for j in range(i*i,len(li2),i):\n",
    "                li2[j]=False"
   ]
  }
 ],
 "metadata": {
  "kernelspec": {
   "display_name": "Python 3",
   "language": "python",
   "name": "python3"
  },
  "language_info": {
   "codemirror_mode": {
    "name": "ipython",
    "version": 3
   },
   "file_extension": ".py",
   "mimetype": "text/x-python",
   "name": "python",
   "nbconvert_exporter": "python",
   "pygments_lexer": "ipython3",
   "version": "3.12.2"
  }
 },
 "nbformat": 4,
 "nbformat_minor": 2
}
