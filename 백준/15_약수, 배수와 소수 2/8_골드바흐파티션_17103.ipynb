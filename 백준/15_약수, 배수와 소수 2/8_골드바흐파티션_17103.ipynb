{
 "cells": [
  {
   "cell_type": "code",
   "execution_count": 6,
   "metadata": {},
   "outputs": [],
   "source": [
    "def primeList(n):\n",
    "    prime=[True]*(n+1)\n",
    "    prime[:2]=[False]*2\n",
    "    for i in range(2, int(n**0.5)+1):\n",
    "        for j in range(i*i,n+1,i):\n",
    "            prime[j]=False\n",
    "    return [i for i,v in enumerate(prime) if v]\n"
   ]
  },
  {
   "cell_type": "code",
   "execution_count": 9,
   "metadata": {},
   "outputs": [
    {
     "data": {
      "text/plain": [
       "[2,\n",
       " 3,\n",
       " 5,\n",
       " 7,\n",
       " 11,\n",
       " 13,\n",
       " 17,\n",
       " 19,\n",
       " 23,\n",
       " 29,\n",
       " 31,\n",
       " 37,\n",
       " 41,\n",
       " 43,\n",
       " 47,\n",
       " 53,\n",
       " 59,\n",
       " 61,\n",
       " 67,\n",
       " 71,\n",
       " 73,\n",
       " 79,\n",
       " 83,\n",
       " 89,\n",
       " 97,\n",
       " 101]"
      ]
     },
     "execution_count": 9,
     "metadata": {},
     "output_type": "execute_result"
    }
   ],
   "source": [
    "primeList(101)"
   ]
  },
  {
   "cell_type": "code",
   "execution_count": 4,
   "metadata": {},
   "outputs": [],
   "source": [
    "def binarySearch(li,n):\n",
    "    low=0\n",
    "    high=len(li)-1\n",
    "    while low<high:\n",
    "        mid=(low+high)//2\n",
    "        if li[mid]<n:\n",
    "            low=mid+1\n",
    "        else:\n",
    "            high=mid\n",
    "    return low\n",
    "\n"
   ]
  },
  {
   "cell_type": "code",
   "execution_count": 5,
   "metadata": {},
   "outputs": [
    {
     "name": "stdout",
     "output_type": "stream",
     "text": [
      "6\n"
     ]
    }
   ],
   "source": [
    "N=int(input())\n",
    "s=[]\n",
    "li=[]\n",
    "\n",
    "for i in range(N):\n",
    "    li.append(int(input()))\n",
    "    \n",
    "maxVal=max(li)\n",
    "primes=primeList(maxVal)\n",
    "set_primes=set(primes)\n",
    "\n",
    "for i in li:\n",
    "    cnt=0\n",
    "    for j in range(binarySearch(primes,i//2+1)):\n",
    "        if i-primes[j] in set_primes:\n",
    "            cnt+=1\n",
    "            # li[j]=0\n",
    "    s.append(str(cnt))\n",
    "\n",
    "print('\\n'.join(s))"
   ]
  },
  {
   "cell_type": "code",
   "execution_count": 79,
   "metadata": {},
   "outputs": [],
   "source": [
    "def isPrime(n):\n",
    "    for i in range(2,int(n**0.5)+1):\n",
    "        if n%i==0:\n",
    "            return False\n",
    "    return True"
   ]
  }
 ],
 "metadata": {
  "kernelspec": {
   "display_name": "Python 3",
   "language": "python",
   "name": "python3"
  },
  "language_info": {
   "codemirror_mode": {
    "name": "ipython",
    "version": 3
   },
   "file_extension": ".py",
   "mimetype": "text/x-python",
   "name": "python",
   "nbconvert_exporter": "python",
   "pygments_lexer": "ipython3",
   "version": "3.12.2"
  }
 },
 "nbformat": 4,
 "nbformat_minor": 2
}
