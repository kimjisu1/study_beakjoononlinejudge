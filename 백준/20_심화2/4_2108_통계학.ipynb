{
 "cells": [
  {
   "cell_type": "code",
   "execution_count": 11,
   "metadata": {},
   "outputs": [],
   "source": [
    "from collections import Counter\n",
    "import math\n",
    "\n",
    "\n",
    "N=int(input())\n",
    "li=list(int(input()) for _ in range(N))\n"
   ]
  },
  {
   "cell_type": "code",
   "execution_count": 14,
   "metadata": {},
   "outputs": [
    {
     "name": "stdout",
     "output_type": "stream",
     "text": [
      "2\n",
      "2\n",
      "1\n",
      "10\n"
     ]
    }
   ],
   "source": [
    "li.sort()\n",
    "\n",
    "#산술평균\n",
    "print(round(sum(li)/N)) \n",
    "\n",
    "#중앙값\n",
    "print(int(li[0]if len(li)==1 else(li[math.ceil((N-1)/2)] + li[math.floor((N-1)/2)])/2))\n",
    "\n",
    "\n",
    "#최빈값\n",
    "count=Counter(li)\n",
    "if len(li)==1:\n",
    "    print(li[0])\n",
    "# elif len(count)==len(li):\n",
    "#     print(li[1])\n",
    "else:\n",
    "    maxVal=max(count.values())\n",
    "    ks = [k for i,(k,v) in enumerate(count.items()) if v==maxVal]\n",
    "    ks.sort()\n",
    "    print(ks[1] if len(ks)>1 else ks[0])\n",
    "\n",
    "#범위\n",
    "print(max(li)-min(li))"
   ]
  }
 ],
 "metadata": {
  "kernelspec": {
   "display_name": "Python 3",
   "language": "python",
   "name": "python3"
  },
  "language_info": {
   "codemirror_mode": {
    "name": "ipython",
    "version": 3
   },
   "file_extension": ".py",
   "mimetype": "text/x-python",
   "name": "python",
   "nbconvert_exporter": "python",
   "pygments_lexer": "ipython3",
   "version": "3.12.2"
  }
 },
 "nbformat": 4,
 "nbformat_minor": 2
}
