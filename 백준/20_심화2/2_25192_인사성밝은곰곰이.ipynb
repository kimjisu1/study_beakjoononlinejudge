{
 "cells": [
  {
   "cell_type": "code",
   "execution_count": 5,
   "metadata": {},
   "outputs": [
    {
     "name": "stdout",
     "output_type": "stream",
     "text": [
      "0\n"
     ]
    }
   ],
   "source": [
    "\n",
    "N=int(input())\n",
    "strings=[input() for _ in range(N)]\n",
    "cnt=0\n",
    "set_li=set()\n",
    "for string in strings:\n",
    "    if string=='ENTER':\n",
    "        cnt+=len(set_li)\n",
    "        set_li.clear()\n",
    "    else:\n",
    "        set_li.add(string)\n",
    "cnt+=len(set_li)\n",
    "print(cnt)"
   ]
  }
 ],
 "metadata": {
  "kernelspec": {
   "display_name": "Python 3",
   "language": "python",
   "name": "python3"
  },
  "language_info": {
   "codemirror_mode": {
    "name": "ipython",
    "version": 3
   },
   "file_extension": ".py",
   "mimetype": "text/x-python",
   "name": "python",
   "nbconvert_exporter": "python",
   "pygments_lexer": "ipython3",
   "version": "3.12.2"
  }
 },
 "nbformat": 4,
 "nbformat_minor": 2
}
