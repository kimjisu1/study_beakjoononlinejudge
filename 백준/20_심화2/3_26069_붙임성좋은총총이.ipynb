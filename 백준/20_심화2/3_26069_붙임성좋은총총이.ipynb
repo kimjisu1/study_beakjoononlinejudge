{
 "cells": [
  {
   "cell_type": "code",
   "execution_count": 4,
   "metadata": {},
   "outputs": [
    {
     "data": {
      "text/plain": [
       "[['a', 'b'], ['c', 'd']]"
      ]
     },
     "execution_count": 4,
     "metadata": {},
     "output_type": "execute_result"
    }
   ],
   "source": [
    "\n",
    "N=int(input())\n",
    "strings=[input().split() for _ in range(N)]\n",
    "virus='ChongChong'\n",
    "set_li=set()\n",
    "set_li.add(virus)\n",
    "for string in strings:\n",
    "    if string[0] in set_li or string[1] in set_li:\n",
    "        set_li.add(string[0])\n",
    "        set_li.add(string[1])\n",
    "print(len(set_li))        "
   ]
  }
 ],
 "metadata": {
  "kernelspec": {
   "display_name": "Python 3",
   "language": "python",
   "name": "python3"
  },
  "language_info": {
   "codemirror_mode": {
    "name": "ipython",
    "version": 3
   },
   "file_extension": ".py",
   "mimetype": "text/x-python",
   "name": "python",
   "nbconvert_exporter": "python",
   "pygments_lexer": "ipython3",
   "version": "3.12.2"
  }
 },
 "nbformat": 4,
 "nbformat_minor": 2
}
