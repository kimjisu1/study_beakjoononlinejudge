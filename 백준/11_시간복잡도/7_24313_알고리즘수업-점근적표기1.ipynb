{
 "cells": [
  {
   "cell_type": "code",
   "execution_count": 12,
   "metadata": {},
   "outputs": [
    {
     "name": "stdout",
     "output_type": "stream",
     "text": [
      "0\n"
     ]
    }
   ],
   "source": [
    "# a1*n0 + a0 <= c*n0\n",
    "a1,a0=map(int,input().split())\n",
    "c=int(input())\n",
    "n0=int(input())\n",
    "if a1>c and a0<0:\n",
    "    print(0)\n",
    "else:\n",
    "    print(int(a1*n0+a0<=c*n0))"
   ]
  }
 ],
 "metadata": {
  "kernelspec": {
   "display_name": "Python 3",
   "language": "python",
   "name": "python3"
  },
  "language_info": {
   "codemirror_mode": {
    "name": "ipython",
    "version": 3
   },
   "file_extension": ".py",
   "mimetype": "text/x-python",
   "name": "python",
   "nbconvert_exporter": "python",
   "pygments_lexer": "ipython3",
   "version": "3.12.2"
  }
 },
 "nbformat": 4,
 "nbformat_minor": 2
}
