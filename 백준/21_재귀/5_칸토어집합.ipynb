{
 "cells": [
  {
   "cell_type": "code",
   "execution_count": 37,
   "metadata": {},
   "outputs": [
    {
     "name": "stdout",
     "output_type": "stream",
     "text": [
      "\n"
     ]
    }
   ],
   "source": [
    "def kanto(li):\n",
    "    length=len(li)\n",
    "    if length==1:\n",
    "        return li\n",
    "    else:\n",
    "        return kanto(li[:length//3])+[' ']*(length//3)+kanto(li[:length//3])\n",
    "\n",
    "result=[]\n",
    "while True:\n",
    "    try:\n",
    "        li='-'*(3**int(input()))\n",
    "        temp=kanto(li)\n",
    "        result.append(''.join(temp))\n",
    "    except:\n",
    "        break\n",
    "print('\\n'.join(result))"
   ]
  },
  {
   "cell_type": "code",
   "execution_count": 40,
   "metadata": {},
   "outputs": [
    {
     "name": "stdout",
     "output_type": "stream",
     "text": [
      "- -   - -         - -   - -\n"
     ]
    }
   ],
   "source": [
    "def kanto(li):\n",
    "    length=len(li)\n",
    "    if length==1:\n",
    "        return li\n",
    "    else:\n",
    "        part=length//3\n",
    "        return kanto(li[:part])+' '*part+kanto(li[part*2:])\n",
    "\n",
    "li2='-'*(3**int(input()))\n",
    "temp=kanto(li2)\n",
    "print(temp)"
   ]
  }
 ],
 "metadata": {
  "kernelspec": {
   "display_name": "Python 3",
   "language": "python",
   "name": "python3"
  },
  "language_info": {
   "codemirror_mode": {
    "name": "ipython",
    "version": 3
   },
   "file_extension": ".py",
   "mimetype": "text/x-python",
   "name": "python",
   "nbconvert_exporter": "python",
   "pygments_lexer": "ipython3",
   "version": "3.12.2"
  }
 },
 "nbformat": 4,
 "nbformat_minor": 2
}
