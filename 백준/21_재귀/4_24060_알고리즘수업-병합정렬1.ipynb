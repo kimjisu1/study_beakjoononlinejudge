{
 "cells": [
  {
   "cell_type": "markdown",
   "metadata": {},
   "source": [
    "### 병합정렬과 퀵정렬은 주기적으로 연습해야 할 것 같다.\n",
    "\n",
    "더하기 해야하는 부분이나 등호 부분을 좀더 신경쓰자."
   ]
  },
  {
   "cell_type": "code",
   "execution_count": 56,
   "metadata": {},
   "outputs": [
    {
     "name": "stdout",
     "output_type": "stream",
     "text": [
      "-1\n"
     ]
    }
   ],
   "source": [
    "def merge_sort(li,low,high):\n",
    "    if low<high:\n",
    "        m=(low+high)//2\n",
    "\n",
    "        #분할\n",
    "        merge_sort(li,low,m)\n",
    "        merge_sort(li,m+1,high) #더하기 신경\n",
    "\n",
    "        #정복\n",
    "        merge(li,low,m,high)\n",
    "        \n",
    "def merge(li,low,m,high):\n",
    "\n",
    "    temp=[]\n",
    "    pivotL=low\n",
    "    pivotR=m+1\n",
    "\n",
    "    while pivotL<=m and pivotR<=high: #등호신경\n",
    "        if li[pivotL] <= li[pivotR]:\n",
    "            temp.append(li[pivotL])\n",
    "            result.append(li[pivotL])\n",
    "            pivotL+=1\n",
    "\n",
    "        else:\n",
    "            temp.append(li[pivotR])\n",
    "            result.append(li[pivotR])\n",
    "            pivotR+=1\n",
    "            \n",
    "    for i in range(pivotL,m+1):\n",
    "        temp.append(li[i])\n",
    "        result.append(li[i])\n",
    "\n",
    "    for i in range(pivotR,high+1):\n",
    "        temp.append(li[i])\n",
    "        result.append(li[i])\n",
    "        \n",
    "    li[low:high+1]=temp[:]\n",
    "\n",
    "N,K=map(int,input().split())\n",
    "A=[*map(int,input().split())]\n",
    "result=[]\n",
    "\n",
    "merge_sort(A,0,N-1)\n",
    "\n",
    "print(-1 if len(result)<K else result[K-1])"
   ]
  }
 ],
 "metadata": {
  "kernelspec": {
   "display_name": "Python 3",
   "language": "python",
   "name": "python3"
  },
  "language_info": {
   "codemirror_mode": {
    "name": "ipython",
    "version": 3
   },
   "file_extension": ".py",
   "mimetype": "text/x-python",
   "name": "python",
   "nbconvert_exporter": "python",
   "pygments_lexer": "ipython3",
   "version": "3.12.2"
  }
 },
 "nbformat": 4,
 "nbformat_minor": 2
}
