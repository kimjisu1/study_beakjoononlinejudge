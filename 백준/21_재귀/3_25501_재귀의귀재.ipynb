{
 "cells": [
  {
   "cell_type": "code",
   "execution_count": 35,
   "metadata": {},
   "outputs": [
    {
     "name": "stdout",
     "output_type": "stream",
     "text": [
      "1 2\n",
      "1 3\n"
     ]
    }
   ],
   "source": [
    "def recursion(s, l, r,cnt):\n",
    "    cnt+=1\n",
    "    if l >= r: return (1,cnt)\n",
    "    elif s[l] != s[r]: return (0,cnt)\n",
    "    else: return recursion(s, l+1, r-1,cnt)\n",
    "\n",
    "def isPalindrome(s):\n",
    "    cnt=0\n",
    "    return recursion(s, 0, len(s)-1,cnt)\n",
    "\n",
    "n=int(input())\n",
    "print('\\n'.join([ ' '.join(map(str,isPalindrome(input()))) for i in range(n)]))"
   ]
  }
 ],
 "metadata": {
  "kernelspec": {
   "display_name": "Python 3",
   "language": "python",
   "name": "python3"
  },
  "language_info": {
   "codemirror_mode": {
    "name": "ipython",
    "version": 3
   },
   "file_extension": ".py",
   "mimetype": "text/x-python",
   "name": "python",
   "nbconvert_exporter": "python",
   "pygments_lexer": "ipython3",
   "version": "3.12.2"
  }
 },
 "nbformat": 4,
 "nbformat_minor": 2
}
