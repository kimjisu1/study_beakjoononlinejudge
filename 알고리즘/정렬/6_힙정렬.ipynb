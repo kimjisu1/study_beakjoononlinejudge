{
 "cells": [
  {
   "cell_type": "code",
   "execution_count": 4,
   "metadata": {},
   "outputs": [
    {
     "name": "stdout",
     "output_type": "stream",
     "text": [
      "[1, 3, 5, 5, 5, 7, 7, 7, 8, 8, 22, 89]\n"
     ]
    }
   ],
   "source": [
    "# Max Heapify 함수: 특정 인덱스의 노드를 최대 힙 형태로 유지하는 함수\n",
    "def max_heapify(arr, n, i):\n",
    "    largest = i  # 부모 노드의 인덱스로 초기화\n",
    "    left = 2 * i + 1  # 왼쪽 자식 노드의 인덱스\n",
    "    right = 2 * i + 2  # 오른쪽 자식 노드의 인덱스\n",
    "\n",
    "    # 왼쪽 자식 노드가 부모 노드보다 크면 largest 값을 갱신\n",
    "    if left < n and arr[largest] < arr[left]:\n",
    "        largest = left\n",
    "\n",
    "    # 오른쪽 자식 노드가 부모 노드보다 크면 largest 값을 갱신\n",
    "    if right < n and arr[largest] < arr[right]:\n",
    "        largest = right\n",
    "\n",
    "    # largest 값이 갱신되었다면 노드를 교환하고, 재귀적으로 Max Heapify를 호출\n",
    "    if largest != i:\n",
    "        arr[i], arr[largest] = arr[largest], arr[i]\n",
    "        max_heapify(arr, n, largest)\n",
    "\n",
    "# 힙 정렬 함수\n",
    "def heap_sort(arr):\n",
    "    n = len(arr)\n",
    "\n",
    "    # 입력 배열을 최대 힙 형태로 만듦\n",
    "    for i in range(n // 2 - 1, -1, -1):\n",
    "        max_heapify(arr, n, i)\n",
    "\n",
    "    # 힙에서 최대 원소를 추출하고 정렬된 부분에 추가\n",
    "    for i in range(n - 1, 0, -1):\n",
    "        arr[i], arr[0] = arr[0], arr[i]  # 최대 원소를 맨 뒤로 이동\n",
    "        max_heapify(arr, i, 0)  # 힙 속성 유지\n",
    "\n",
    "    return arr\n",
    "\n",
    "li=[1,3,5,7,7,8,5,8,22,5,7,89]\n",
    "\n",
    "heap_sort(li)\n",
    "print(li)\n"
   ]
  },
  {
   "cell_type": "code",
   "execution_count": 10,
   "metadata": {},
   "outputs": [
    {
     "name": "stdout",
     "output_type": "stream",
     "text": [
      "[2, 3, 4, 5, 6, 7, 1]\n",
      "[1, 3, 2, 5, 6, 7, 4]\n",
      "[7, 6, 5, 4, 3, 2, 1]\n"
     ]
    }
   ],
   "source": [
    "a=0\n",
    "\n",
    "def heapify(li,i,size):\n",
    "\n",
    "    largest=i\n",
    "    left=2*i+1-a\n",
    "    right=2*i+2-a\n",
    "\n",
    "    if left<size and li[left]<li[largest]:\n",
    "        largest=left\n",
    "    if right<size and li[right]<li[largest]:\n",
    "        largest=right\n",
    "    \n",
    "    if largest!=i:\n",
    "        li[largest],li[i]=li[i],li[largest]\n",
    "        heapify(li,largest,size)\n",
    "\n",
    "\n",
    "def heap_sort(li):\n",
    "\n",
    "    size=len(li)\n",
    "\n",
    "    for i in range(size//2+a-1,a-1,-1):\n",
    "        heapify(li,i,size)\n",
    "    print(li)\n",
    "    for i in range(size-1,a,-1):\n",
    "        li[a],li[i]=li[i],li[a]\n",
    "        heapify(li,a,i)\n",
    "        \n",
    "\n",
    "\n",
    "# li=[1,3,5,7,7,8,5,8,22,5,7,101,89]\n",
    "# li=[9,2,10,1,4,7,6,3,5,20,15]\n",
    "li=[2,3,4,5,6,7,1]\n",
    "\n",
    "print(li)\n",
    "\n",
    "heap_sort(li)\n",
    "\n",
    "print(li)"
   ]
  },
  {
   "cell_type": "code",
   "execution_count": 92,
   "metadata": {},
   "outputs": [],
   "source": [
    "%reset -f"
   ]
  },
  {
   "cell_type": "code",
   "execution_count": 86,
   "metadata": {},
   "outputs": [],
   "source": [
    "#     for i in range(size-1,0,-1):\n",
    "#         li[0],li[i]=li[i],li[0]\n",
    "#         heapify(li,0,i)\n",
    "\n",
    "# # li=[1,3,5,7,7,8,5,8,22,5,7,101,89]\n",
    "# li=[6,2,3,1,4,7]\n",
    "\n",
    "# heap_sort(li)\n",
    "# print(li)"
   ]
  }
 ],
 "metadata": {
  "kernelspec": {
   "display_name": "Python 3",
   "language": "python",
   "name": "python3"
  },
  "language_info": {
   "codemirror_mode": {
    "name": "ipython",
    "version": 3
   },
   "file_extension": ".py",
   "mimetype": "text/x-python",
   "name": "python",
   "nbconvert_exporter": "python",
   "pygments_lexer": "ipython3",
   "version": "3.12.2"
  }
 },
 "nbformat": 4,
 "nbformat_minor": 2
}
