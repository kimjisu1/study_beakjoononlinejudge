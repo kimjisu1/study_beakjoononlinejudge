{
 "cells": [
  {
   "cell_type": "code",
   "execution_count": 58,
   "metadata": {},
   "outputs": [
    {
     "name": "stdout",
     "output_type": "stream",
     "text": [
      "[1, 3, 5, 7, 7, 8, 5, 8, 22, 5, 7, 89]\n",
      "[1, 3, 5, 5, 5, 7, 7, 7, 8, 8, 22, 89]\n"
     ]
    }
   ],
   "source": [
    "#퀵정렬\n",
    "def quickSort(li,l,r):\n",
    "    if l<r:\n",
    "\n",
    "        #중간피벗\n",
    "        p=partition_mid(li,l,r)\n",
    "        quickSort(li,l,p-1)\n",
    "        quickSort(li,p,r)\n",
    "\n",
    "        #마지막피벗\n",
    "        # p=partition_last(li,l,r)\n",
    "        # quickSort(li,l,p-1)\n",
    "        # quickSort(li,p+1,r)\n",
    "\n",
    "#퀵정렬 마지막피벗\n",
    "def partition_last(li,l,r):\n",
    "    pivot=li[r] #피봇데이터\n",
    "    i=l-1\n",
    "\n",
    "    for j in range(l,r):\n",
    "        if li[j]<pivot:\n",
    "            i+=1\n",
    "            li[i],li[j]=li[j],li[i]\n",
    "    p=i+1 #마지막 파티션 위치 선정\n",
    "    li[p],li[r]=li[r],li[p]\n",
    "    return p\n",
    "\n",
    "#퀵정렬 중간피벗\n",
    "def partition_mid(li,l,r):\n",
    "    pivot=li[(l+r)//2] #피봇데이터\n",
    "\n",
    "    while l<=r:\n",
    "        while li[l] < pivot:\n",
    "            l+=1\n",
    "        while li[r] > pivot:\n",
    "            r-=1\n",
    "        if l<=r:\n",
    "            li[l],li[r]=li[r],li[l]\n",
    "            l+=1\n",
    "            r-=1\n",
    "\n",
    "    return l\n",
    "\n",
    "li=[1,3,5,7,7,8,5,8,22,5,7,89]\n",
    "print(li)\n",
    "quickSort(li,0,len(li)-1)\n",
    "print(li)"
   ]
  }
 ],
 "metadata": {
  "kernelspec": {
   "display_name": "Python 3",
   "language": "python",
   "name": "python3"
  },
  "language_info": {
   "codemirror_mode": {
    "name": "ipython",
    "version": 3
   },
   "file_extension": ".py",
   "mimetype": "text/x-python",
   "name": "python",
   "nbconvert_exporter": "python",
   "pygments_lexer": "ipython3",
   "version": "3.12.2"
  }
 },
 "nbformat": 4,
 "nbformat_minor": 2
}
