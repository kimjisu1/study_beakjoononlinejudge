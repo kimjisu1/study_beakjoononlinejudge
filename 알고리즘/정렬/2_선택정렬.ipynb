{
 "cells": [
  {
   "cell_type": "code",
   "execution_count": 1,
   "metadata": {},
   "outputs": [
    {
     "name": "stdout",
     "output_type": "stream",
     "text": [
      "[5, 2, 6, 3, 1, 4]\n",
      "[1, 2, 3, 4, 5, 6]\n"
     ]
    }
   ],
   "source": [
    "# O(n^2)\n",
    "li=[5,2,6,3,1,4]\n",
    "print(li)\n",
    "for i in range(len(li)):\n",
    "    minIdx=i\n",
    "    for j in range(i,len(li)):\n",
    "        if li[minIdx]>li[j]:\n",
    "            minIdx=j\n",
    "    li[i],li[minIdx]=li[minIdx],li[i]\n",
    "print(li)"
   ]
  }
 ],
 "metadata": {
  "kernelspec": {
   "display_name": "Python 3",
   "language": "python",
   "name": "python3"
  },
  "language_info": {
   "codemirror_mode": {
    "name": "ipython",
    "version": 3
   },
   "file_extension": ".py",
   "mimetype": "text/x-python",
   "name": "python",
   "nbconvert_exporter": "python",
   "pygments_lexer": "ipython3",
   "version": "3.12.2"
  }
 },
 "nbformat": 4,
 "nbformat_minor": 2
}
