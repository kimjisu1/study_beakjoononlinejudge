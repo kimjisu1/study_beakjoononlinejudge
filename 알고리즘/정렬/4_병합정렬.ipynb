{
 "cells": [
  {
   "cell_type": "code",
   "execution_count": 98,
   "metadata": {},
   "outputs": [
    {
     "name": "stdout",
     "output_type": "stream",
     "text": [
      "[1, 3, 5, 5, 5, 7, 7, 7, 8, 8, 22, 89]\n"
     ]
    }
   ],
   "source": [
    "# 분할,정복\n",
    "def merge_sort(li,l,r):\n",
    "    if l<r: \n",
    "        m=(l+r)//2\n",
    "        #분할\n",
    "        merge_sort(li,l,m)\n",
    "        merge_sort(li,m+1,r)\n",
    "        #정복\n",
    "        return merge(li,l,m,r)\n",
    "    \n",
    "def merge(li,l,m,r):\n",
    "\n",
    "    tmp=[]\n",
    "    i=l\n",
    "    j=m+1\n",
    "    \n",
    "    while i<=m and j<=r: #가운데 기준으로 좌우 배열이 둘다 남아있다면\n",
    "        if li[i]<li[j]:\n",
    "            tmp.append(li[i])\n",
    "            i+=1\n",
    "        else:\n",
    "            tmp.append(li[j])\n",
    "            j+=1\n",
    "    \n",
    "    #남은배열 털기\n",
    "    tmp+=li[i:m+1]\n",
    "    tmp+=li[j:r+1]\n",
    "\n",
    "    # while i<=m: #왼쪽배열만 남아있다면\n",
    "    #     tmp.append(li[i])\n",
    "    #     i+=1\n",
    "    # while j<=r: #오른쪽배열만 남아있다면\n",
    "    #     tmp.append(li[j])\n",
    "    #     j+=1\n",
    "    li[l:r+1]=tmp\n",
    "\n",
    "li=[1,3,5,7,7,8,5,8,22,5,7,89]\n",
    "merge_sort(li,0,len(li)-1)\n",
    "print(li)"
   ]
  },
  {
   "cell_type": "code",
   "execution_count": 97,
   "metadata": {},
   "outputs": [],
   "source": [
    "%reset"
   ]
  },
  {
   "cell_type": "code",
   "execution_count": null,
   "metadata": {},
   "outputs": [],
   "source": [
    "\n",
    "# li=[1,2,3,4,5]\n",
    "# li2=[7,8,9]\n",
    "# li[0:3]=li2\n",
    "# li"
   ]
  },
  {
   "cell_type": "code",
   "execution_count": null,
   "metadata": {},
   "outputs": [],
   "source": [
    "\n",
    "# def merge_sort(arr):\n",
    "#     if len(arr) <= 1:\n",
    "#         return arr\n",
    "\n",
    "#     mid = len(arr) // 2\n",
    "#     left = arr[:mid]\n",
    "#     right = arr[mid:]\n",
    "\n",
    "#     left = merge_sort(left)\n",
    "#     right = merge_sort(right)\n",
    "\n",
    "#     return merge(left, right)\n",
    "  \n",
    "\n",
    "# def merge(left, right):\n",
    "#     result = []\n",
    "#     i = 0\n",
    "#     j = 0\n",
    "\n",
    "#     while i < len(left) and j < len(right):\n",
    "#         if left[i] < right[j]:\n",
    "#             result.append(left[i])\n",
    "#             i += 1\n",
    "#         else:\n",
    "#             result.append(right[j])\n",
    "#             j += 1\n",
    "\n",
    "#     while i < len(left):\n",
    "#         result.append(left[i])\n",
    "#         i += 1\n",
    "\n",
    "#     while j < len(right):\n",
    "#         result.append(right[j])\n",
    "#         j += 1\n",
    "\n",
    "#     return result\n",
    "\n",
    "# li=[5,2,6,3,1,4]\n",
    "# print(merge_sort(li))\n"
   ]
  },
  {
   "cell_type": "code",
   "execution_count": null,
   "metadata": {
    "tags": [
     "a=50",
     "a",
     "kkk"
    ]
   },
   "outputs": [],
   "source": [
    "# a=1000\n",
    "a=input()\n",
    "print(a)"
   ]
  }
 ],
 "metadata": {
  "kernelspec": {
   "display_name": "Python 3",
   "language": "python",
   "name": "python3"
  },
  "language_info": {
   "codemirror_mode": {
    "name": "ipython",
    "version": 3
   },
   "file_extension": ".py",
   "mimetype": "text/x-python",
   "name": "python",
   "nbconvert_exporter": "python",
   "pygments_lexer": "ipython3",
   "version": "3.12.2"
  }
 },
 "nbformat": 4,
 "nbformat_minor": 2
}
